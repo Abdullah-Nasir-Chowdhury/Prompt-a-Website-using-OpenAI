{
 "cells": [
  {
   "cell_type": "code",
   "execution_count": 1,
   "id": "dee42bb2",
   "metadata": {},
   "outputs": [],
   "source": [
    "import openai\n",
    "import os\n",
    "\n",
    "from dotenv import load_dotenv, find_dotenv\n",
    "_=load_dotenv(find_dotenv())\n",
    "\n",
    "openai.api_key = os.getenv(\"OPENAI_API_KEY\")"
   ]
  },
  {
   "cell_type": "code",
   "execution_count": 2,
   "id": "1534695f",
   "metadata": {},
   "outputs": [],
   "source": [
    "def get_completion(prompt, model = 'gpt-3.5-turbo'):\n",
    "    messages = [{\"role\":\"user\", \"content\":prompt}]\n",
    "    response = openai.ChatCompletion.create(\n",
    "        model = model,\n",
    "        messages = messages,\n",
    "        temperature = 0\n",
    "    )\n",
    "    return response.choices[0].message['content']"
   ]
  },
  {
   "cell_type": "code",
   "execution_count": 3,
   "id": "0ab3d638",
   "metadata": {},
   "outputs": [],
   "source": [
    "from IPython.display import HTML, display"
   ]
  },
  {
   "cell_type": "code",
   "execution_count": 4,
   "id": "ff4f36ef",
   "metadata": {},
   "outputs": [],
   "source": [
    "Luffy = \"https://m.media-amazon.com/images/I/71azOmQbOYL.jpg\"\n",
    "Zoro = \"https://upload.wikimedia.org/wikipedia/en/thumb/a/a4/Roronoa_Zoro.jpg/220px-Roronoa_Zoro.jpg\"\n",
    "Nami = \"https://wallpapers.com/images/hd/nami-one-piece-5871oiya7ks6mhao.jpg\"\n",
    "Usopp = \"https://encrypted-tbn0.gstatic.com/images?q=tbn:ANd9GcQ2LVreYwFsy9Yyrv-RBq7hPtzClnmFIx1tIekxgEPGjBZDKV2yZ-b29JngATcTNco7Bfg&usqp=CAU\"\n",
    "Sanji = \"https://i.pinimg.com/1200x/18/f3/88/18f38887d479fd7e48890e61b2554244.jpg\"\n",
    "Brook = \"https://encrypted-tbn0.gstatic.com/images?q=tbn:ANd9GcQq6LKYlmm_rs_Wbwh7GG3nzH2CZBMIwTJSFJvEZRcE-Q&s\"\n",
    "Franky = \"https://wegotthiscovered.com/wp-content/uploads/2023/08/Franky-One-Piece.jpg?w=1200\"\n",
    "one_piece_logo = \"https://i.pinimg.com/originals/13/56/6d/13566d983c4a3a8b8aa24358781f843d.jpg\"\n",
    "characters = [Luffy, Zoro, Nami, Usopp, Sanji, Brook, Franky]"
   ]
  },
  {
   "cell_type": "code",
   "execution_count": 19,
   "id": "9154bfeb",
   "metadata": {},
   "outputs": [],
   "source": [
    "prompt = f\"\"\"You are a front end developer.\\\n",
    "            Your task is to design a website on the popular anime One Piece\\\n",
    "            You must write down the code for the website using HTML and CSS\\   \n",
    "            Use headers and footers in the code, also make sure to use div\\\n",
    "            Use the {one_piece_logo} by resizing it to view it entirely as the header background.\n",
    "            Use every image by resizing them equally from the list {characters} for the straw hats crew description section\\ \n",
    "            Write a brief description on each of the characters below their respective images\n",
    "\"\"\""
   ]
  },
  {
   "cell_type": "code",
   "execution_count": null,
   "id": "26ccad1f",
   "metadata": {},
   "outputs": [],
   "source": [
    "response = get_completion(prompt)"
   ]
  },
  {
   "cell_type": "code",
   "execution_count": null,
   "id": "4336cf75",
   "metadata": {},
   "outputs": [],
   "source": [
    "print(response)"
   ]
  },
  {
   "cell_type": "code",
   "execution_count": null,
   "id": "ddd1a4fe",
   "metadata": {},
   "outputs": [],
   "source": [
    "display(HTML(response))"
   ]
  },
  {
   "cell_type": "code",
   "execution_count": null,
   "id": "07d1b38a",
   "metadata": {},
   "outputs": [],
   "source": []
  }
 ],
 "metadata": {
  "kernelspec": {
   "display_name": "Python 3 (ipykernel)",
   "language": "python",
   "name": "python3"
  },
  "language_info": {
   "codemirror_mode": {
    "name": "ipython",
    "version": 3
   },
   "file_extension": ".py",
   "mimetype": "text/x-python",
   "name": "python",
   "nbconvert_exporter": "python",
   "pygments_lexer": "ipython3",
   "version": "3.9.12"
  }
 },
 "nbformat": 4,
 "nbformat_minor": 5
}
